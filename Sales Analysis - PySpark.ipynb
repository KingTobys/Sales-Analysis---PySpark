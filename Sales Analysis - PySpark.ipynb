{
 "cells": [
  {
   "cell_type": "code",
   "execution_count": 1,
   "id": "5982d050",
   "metadata": {},
   "outputs": [
    {
     "name": "stdout",
     "output_type": "stream",
     "text": [
      "Requirement already satisfied: pyspark in /Users/tobias/anaconda3/lib/python3.11/site-packages (3.5.0)\n",
      "Requirement already satisfied: py4j==0.10.9.7 in /Users/tobias/anaconda3/lib/python3.11/site-packages (from pyspark) (0.10.9.7)\n",
      "Note: you may need to restart the kernel to use updated packages.\n"
     ]
    }
   ],
   "source": [
    "pip install pyspark"
   ]
  },
  {
   "cell_type": "code",
   "execution_count": 2,
   "id": "8bb1502e",
   "metadata": {},
   "outputs": [],
   "source": [
    "import pandas as pd\n",
    "import pyspark"
   ]
  },
  {
   "cell_type": "code",
   "execution_count": 3,
   "id": "e83c61e8",
   "metadata": {},
   "outputs": [
    {
     "name": "stderr",
     "output_type": "stream",
     "text": [
      "/var/folders/51/p_9jxbq11457y302b6d7fk4w0000gn/T/ipykernel_53336/3037791132.py:1: FutureWarning: The error_bad_lines argument has been deprecated and will be removed in a future version. Use on_bad_lines in the future.\n",
      "\n",
      "\n",
      "  sales_data = pd.read_csv('/Users/tobias/Downloads/sales.csv.txt', error_bad_lines=False)\n",
      "Skipping line 17: expected 5 fields, saw 6\n",
      "Skipping line 56: expected 5 fields, saw 6\n",
      "Skipping line 95: expected 5 fields, saw 6\n",
      "\n"
     ]
    }
   ],
   "source": [
    "sales_data = pd.read_csv('/Users/tobias/Downloads/sales.csv.txt', error_bad_lines=False)"
   ]
  },
  {
   "cell_type": "code",
   "execution_count": 4,
   "id": "2dd2f798",
   "metadata": {},
   "outputs": [
    {
     "data": {
      "text/html": [
       "<div>\n",
       "<style scoped>\n",
       "    .dataframe tbody tr th:only-of-type {\n",
       "        vertical-align: middle;\n",
       "    }\n",
       "\n",
       "    .dataframe tbody tr th {\n",
       "        vertical-align: top;\n",
       "    }\n",
       "\n",
       "    .dataframe thead th {\n",
       "        text-align: right;\n",
       "    }\n",
       "</style>\n",
       "<table border=\"1\" class=\"dataframe\">\n",
       "  <thead>\n",
       "    <tr style=\"text-align: right;\">\n",
       "      <th></th>\n",
       "      <th>1</th>\n",
       "      <th>A</th>\n",
       "      <th>2023-01-01</th>\n",
       "      <th>India</th>\n",
       "      <th>Swiggy</th>\n",
       "    </tr>\n",
       "  </thead>\n",
       "  <tbody>\n",
       "    <tr>\n",
       "      <th>0</th>\n",
       "      <td>2</td>\n",
       "      <td>A</td>\n",
       "      <td>2022-01-01</td>\n",
       "      <td>India</td>\n",
       "      <td>Swiggy</td>\n",
       "    </tr>\n",
       "    <tr>\n",
       "      <th>1</th>\n",
       "      <td>2</td>\n",
       "      <td>A</td>\n",
       "      <td>2023-01-07</td>\n",
       "      <td>India</td>\n",
       "      <td>Swiggy</td>\n",
       "    </tr>\n",
       "    <tr>\n",
       "      <th>2</th>\n",
       "      <td>3</td>\n",
       "      <td>A</td>\n",
       "      <td>2023-01-10</td>\n",
       "      <td>India</td>\n",
       "      <td>Restaurant</td>\n",
       "    </tr>\n",
       "    <tr>\n",
       "      <th>3</th>\n",
       "      <td>3</td>\n",
       "      <td>A</td>\n",
       "      <td>2022-01-11</td>\n",
       "      <td>India</td>\n",
       "      <td>Swiggy</td>\n",
       "    </tr>\n",
       "    <tr>\n",
       "      <th>4</th>\n",
       "      <td>3</td>\n",
       "      <td>A</td>\n",
       "      <td>2023-01-11</td>\n",
       "      <td>India</td>\n",
       "      <td>Restaurant</td>\n",
       "    </tr>\n",
       "  </tbody>\n",
       "</table>\n",
       "</div>"
      ],
      "text/plain": [
       "   1  A   2023-01-01  India      Swiggy\n",
       "0  2  A   2022-01-01  India      Swiggy\n",
       "1  2  A   2023-01-07  India      Swiggy\n",
       "2  3  A   2023-01-10  India  Restaurant\n",
       "3  3  A   2022-01-11  India      Swiggy\n",
       "4  3  A   2023-01-11  India  Restaurant"
      ]
     },
     "execution_count": 4,
     "metadata": {},
     "output_type": "execute_result"
    }
   ],
   "source": [
    "sales_data.head()"
   ]
  },
  {
   "cell_type": "code",
   "execution_count": 5,
   "id": "ae20c6b4",
   "metadata": {},
   "outputs": [],
   "source": [
    "menu_data = pd.read_csv('/Users/tobias/Downloads/menu.csv.txt')"
   ]
  },
  {
   "cell_type": "code",
   "execution_count": 6,
   "id": "c7c32b0d",
   "metadata": {},
   "outputs": [
    {
     "data": {
      "text/html": [
       "<div>\n",
       "<style scoped>\n",
       "    .dataframe tbody tr th:only-of-type {\n",
       "        vertical-align: middle;\n",
       "    }\n",
       "\n",
       "    .dataframe tbody tr th {\n",
       "        vertical-align: top;\n",
       "    }\n",
       "\n",
       "    .dataframe thead th {\n",
       "        text-align: right;\n",
       "    }\n",
       "</style>\n",
       "<table border=\"1\" class=\"dataframe\">\n",
       "  <thead>\n",
       "    <tr style=\"text-align: right;\">\n",
       "      <th></th>\n",
       "      <th>1</th>\n",
       "      <th>PIZZA</th>\n",
       "      <th>100</th>\n",
       "      <th>Unnamed: 3</th>\n",
       "    </tr>\n",
       "  </thead>\n",
       "  <tbody>\n",
       "    <tr>\n",
       "      <th>0</th>\n",
       "      <td>2</td>\n",
       "      <td>Chowmin</td>\n",
       "      <td>150</td>\n",
       "      <td>NaN</td>\n",
       "    </tr>\n",
       "    <tr>\n",
       "      <th>1</th>\n",
       "      <td>3</td>\n",
       "      <td>sandwich</td>\n",
       "      <td>120</td>\n",
       "      <td>NaN</td>\n",
       "    </tr>\n",
       "    <tr>\n",
       "      <th>2</th>\n",
       "      <td>4</td>\n",
       "      <td>Dosa</td>\n",
       "      <td>110</td>\n",
       "      <td>NaN</td>\n",
       "    </tr>\n",
       "    <tr>\n",
       "      <th>3</th>\n",
       "      <td>5</td>\n",
       "      <td>Biryani</td>\n",
       "      <td>80</td>\n",
       "      <td>NaN</td>\n",
       "    </tr>\n",
       "    <tr>\n",
       "      <th>4</th>\n",
       "      <td>6</td>\n",
       "      <td>Pasta</td>\n",
       "      <td>180</td>\n",
       "      <td>NaN</td>\n",
       "    </tr>\n",
       "  </tbody>\n",
       "</table>\n",
       "</div>"
      ],
      "text/plain": [
       "   1      PIZZA   100  Unnamed: 3\n",
       "0  2    Chowmin   150         NaN\n",
       "1  3   sandwich   120         NaN\n",
       "2  4       Dosa   110         NaN\n",
       "3  5    Biryani    80         NaN\n",
       "4  6      Pasta   180         NaN"
      ]
     },
     "execution_count": 6,
     "metadata": {},
     "output_type": "execute_result"
    }
   ],
   "source": [
    "menu_data.head()"
   ]
  },
  {
   "cell_type": "markdown",
   "id": "e101e657",
   "metadata": {},
   "source": [
    "## Creating a Dataframe for Sales"
   ]
  },
  {
   "cell_type": "code",
   "execution_count": 8,
   "id": "397b5c39",
   "metadata": {},
   "outputs": [],
   "source": [
    "from pyspark.sql import SparkSession\n",
    "from pyspark.sql.types import StructType, StructField, IntegerType, StringType, DateType\n",
    "\n",
    "# Initialize a Spark session\n",
    "spark = SparkSession.builder.appName(\"example\").getOrCreate()\n",
    "\n",
    "schema = StructType([\n",
    "    StructField('product_id', IntegerType(), True),\n",
    "    StructField('customer_id', StringType(), True),\n",
    "    StructField('order_date', DateType(), True),  \n",
    "    StructField('location', StringType(), True),     \n",
    "    StructField('source_order', StringType(), True),\n",
    "])\n"
   ]
  },
  {
   "cell_type": "code",
   "execution_count": 9,
   "id": "86d879f7",
   "metadata": {},
   "outputs": [],
   "source": [
    "sales_df = spark.read.format('csv').option('inferSchema', 'true').schema(schema).load('/Users/tobias/Downloads/sales.csv.txt')"
   ]
  },
  {
   "cell_type": "code",
   "execution_count": 10,
   "id": "6413f0b2",
   "metadata": {},
   "outputs": [
    {
     "name": "stdout",
     "output_type": "stream",
     "text": [
      "+----------+-----------+----------+--------+------------+\n",
      "|product_id|customer_id|order_date|location|source_order|\n",
      "+----------+-----------+----------+--------+------------+\n",
      "|         1|          A|2023-01-01|   India|      Swiggy|\n",
      "|         2|          A|2022-01-01|   India|      Swiggy|\n",
      "|         2|          A|2023-01-07|   India|      Swiggy|\n",
      "|         3|          A|2023-01-10|   India|  Restaurant|\n",
      "|         3|          A|2022-01-11|   India|      Swiggy|\n",
      "|         3|          A|2023-01-11|   India|  Restaurant|\n",
      "|         2|          B|2022-02-01|   India|      Swiggy|\n",
      "|         2|          B|2023-01-02|   India|      Swiggy|\n",
      "|         1|          B|2023-01-04|   India|  Restaurant|\n",
      "|         1|          B|2023-02-11|   India|      Swiggy|\n",
      "|         3|          B|2023-01-16|   India|      zomato|\n",
      "|         3|          B|2022-02-01|   India|      zomato|\n",
      "|         3|          C|2023-01-01|   India|      zomato|\n",
      "|         1|          C|2023-01-01|      UK|      Swiggy|\n",
      "|         6|          C|2022-01-07|      UK|      zomato|\n",
      "|         3|          D|2023-02-16|      UK|  Restaurant|\n",
      "|         5|          D|2022-02-01|      UK|      zomato|\n",
      "|         3|          E|2023-02-01|      UK|  Restaurant|\n",
      "|         4|          E|2023-02-01|      UK|      Swiggy|\n",
      "|         4|          E|2023-02-07|      UK|  Restaurant|\n",
      "+----------+-----------+----------+--------+------------+\n",
      "only showing top 20 rows\n",
      "\n"
     ]
    }
   ],
   "source": [
    "sales_df.show()"
   ]
  },
  {
   "cell_type": "code",
   "execution_count": 11,
   "id": "17e6cb58",
   "metadata": {},
   "outputs": [],
   "source": [
    "from pyspark.sql.functions import year, quarter, month"
   ]
  },
  {
   "cell_type": "code",
   "execution_count": 12,
   "id": "c770da93",
   "metadata": {},
   "outputs": [],
   "source": [
    "sales_df=sales_df.withColumn('order_year',year(sales_df.order_date))\n",
    "sales_df=sales_df.withColumn('order_quarter',quarter(sales_df.order_date))\n",
    "sales_df=sales_df.withColumn('order_month',month(sales_df.order_date))"
   ]
  },
  {
   "cell_type": "code",
   "execution_count": 13,
   "id": "9f82ccef",
   "metadata": {},
   "outputs": [
    {
     "name": "stdout",
     "output_type": "stream",
     "text": [
      "+----------+-----------+----------+--------+------------+----------+-------------+-----------+\n",
      "|product_id|customer_id|order_date|location|source_order|order_year|order_quarter|order_month|\n",
      "+----------+-----------+----------+--------+------------+----------+-------------+-----------+\n",
      "|         1|          A|2023-01-01|   India|      Swiggy|      2023|            1|          1|\n",
      "|         2|          A|2022-01-01|   India|      Swiggy|      2022|            1|          1|\n",
      "|         2|          A|2023-01-07|   India|      Swiggy|      2023|            1|          1|\n",
      "|         3|          A|2023-01-10|   India|  Restaurant|      2023|            1|          1|\n",
      "|         3|          A|2022-01-11|   India|      Swiggy|      2022|            1|          1|\n",
      "|         3|          A|2023-01-11|   India|  Restaurant|      2023|            1|          1|\n",
      "|         2|          B|2022-02-01|   India|      Swiggy|      2022|            1|          2|\n",
      "|         2|          B|2023-01-02|   India|      Swiggy|      2023|            1|          1|\n",
      "|         1|          B|2023-01-04|   India|  Restaurant|      2023|            1|          1|\n",
      "|         1|          B|2023-02-11|   India|      Swiggy|      2023|            1|          2|\n",
      "|         3|          B|2023-01-16|   India|      zomato|      2023|            1|          1|\n",
      "|         3|          B|2022-02-01|   India|      zomato|      2022|            1|          2|\n",
      "|         3|          C|2023-01-01|   India|      zomato|      2023|            1|          1|\n",
      "|         1|          C|2023-01-01|      UK|      Swiggy|      2023|            1|          1|\n",
      "|         6|          C|2022-01-07|      UK|      zomato|      2022|            1|          1|\n",
      "|         3|          D|2023-02-16|      UK|  Restaurant|      2023|            1|          2|\n",
      "|         5|          D|2022-02-01|      UK|      zomato|      2022|            1|          2|\n",
      "|         3|          E|2023-02-01|      UK|  Restaurant|      2023|            1|          2|\n",
      "|         4|          E|2023-02-01|      UK|      Swiggy|      2023|            1|          2|\n",
      "|         4|          E|2023-02-07|      UK|  Restaurant|      2023|            1|          2|\n",
      "+----------+-----------+----------+--------+------------+----------+-------------+-----------+\n",
      "only showing top 20 rows\n",
      "\n"
     ]
    }
   ],
   "source": [
    "sales_df.show()"
   ]
  },
  {
   "cell_type": "markdown",
   "id": "5238aae2",
   "metadata": {},
   "source": [
    "## Creating a DataFrame for Menu"
   ]
  },
  {
   "cell_type": "code",
   "execution_count": 14,
   "id": "ea4a09e9",
   "metadata": {},
   "outputs": [],
   "source": [
    "from pyspark.sql import SparkSession\n",
    "from pyspark.sql.types import StructType, StructField, StringType, IntegerType, FloatType\n",
    "\n",
    "\n",
    "schema = StructType([\n",
    "    StructField('product_id', IntegerType(), True),\n",
    "    StructField('product_name', StringType(), True),\n",
    "    StructField('price', FloatType(), True),\n",
    "])"
   ]
  },
  {
   "cell_type": "code",
   "execution_count": 15,
   "id": "cb8d2082",
   "metadata": {},
   "outputs": [],
   "source": [
    "menu_df = spark.read.format('csv').option('inferSchema', 'true').schema(schema).load('/Users/tobias/Downloads/menu.csv.txt')"
   ]
  },
  {
   "cell_type": "code",
   "execution_count": 16,
   "id": "853a5028",
   "metadata": {},
   "outputs": [
    {
     "name": "stdout",
     "output_type": "stream",
     "text": [
      "+----------+------------+-----+\n",
      "|product_id|product_name|price|\n",
      "+----------+------------+-----+\n",
      "|         1|       PIZZA|100.0|\n",
      "|         2|     Chowmin|150.0|\n",
      "|         3|    sandwich|120.0|\n",
      "|         4|        Dosa|110.0|\n",
      "|         5|     Biryani| 80.0|\n",
      "|         6|       Pasta|180.0|\n",
      "+----------+------------+-----+\n",
      "\n"
     ]
    }
   ],
   "source": [
    "menu_df.show()"
   ]
  },
  {
   "cell_type": "markdown",
   "id": "de902f42",
   "metadata": {},
   "source": [
    "## Deriving KPIs from Tables "
   ]
  },
  {
   "cell_type": "code",
   "execution_count": 17,
   "id": "57fa847b",
   "metadata": {},
   "outputs": [],
   "source": [
    "from pyspark.sql.functions import sum"
   ]
  },
  {
   "cell_type": "code",
   "execution_count": 18,
   "id": "ad1bfded",
   "metadata": {},
   "outputs": [
    {
     "name": "stdout",
     "output_type": "stream",
     "text": [
      "+-----------+------------------+\n",
      "|customer_id|total_amount_spent|\n",
      "+-----------+------------------+\n",
      "|          A|            4260.0|\n",
      "|          B|            4440.0|\n",
      "|          C|            2400.0|\n",
      "|          D|            1200.0|\n",
      "|          E|            2040.0|\n",
      "+-----------+------------------+\n",
      "\n"
     ]
    }
   ],
   "source": [
    "## Total Amount Spent by each customer\n",
    "total_amount_spent= (sales_df.join(menu_df, 'product_id')).groupby('customer_id').agg(sum('price').alias('total_amount_spent')).orderBy('customer_id')\n",
    "total_amount_spent.show()"
   ]
  },
  {
   "cell_type": "code",
   "execution_count": 19,
   "id": "7bf6fac9",
   "metadata": {},
   "outputs": [
    {
     "data": {
      "image/png": "[encoded data removed]",
      "text/plain": [
       "<Figure size 1000x600 with 1 Axes>"
      ]
     },
     "metadata": {},
     "output_type": "display_data"
    }
   ],
   "source": [
    "import seaborn as sns\n",
    "import matplotlib.pyplot as plt\n",
    "\n",
    "\n",
    "# Convert the PySpark DataFrame to a Pandas DataFrame for plotting\n",
    "total_amount_spent_pd = total_amount_spent.toPandas()\n",
    "\n",
    "# Create a bar chart using Matplotlib\n",
    "plt.figure(figsize=(10, 6))\n",
    "plt.bar(total_amount_spent_pd['customer_id'], total_amount_spent_pd['total_amount_spent'])\n",
    "plt.xlabel('Customer ID')\n",
    "plt.ylabel('Total Amount Spent')\n",
    "plt.title('Total Amount Spent by Each Customer')\n",
    "\n",
    "# Show the chart\n",
    "plt.show()"
   ]
  },
  {
   "cell_type": "code",
   "execution_count": 20,
   "id": "311ae24e",
   "metadata": {
    "scrolled": true
   },
   "outputs": [
    {
     "name": "stdout",
     "output_type": "stream",
     "text": [
      "+------------+------------------+\n",
      "|product_name|total_amount_spent|\n",
      "+------------+------------------+\n",
      "|     Biryani|             480.0|\n",
      "|     Chowmin|            3600.0|\n",
      "|        Dosa|            1320.0|\n",
      "|       PIZZA|            2100.0|\n",
      "|       Pasta|            1080.0|\n",
      "|    sandwich|            5760.0|\n",
      "+------------+------------------+\n",
      "\n"
     ]
    }
   ],
   "source": [
    "## Total Amount Spent by each food category\n",
    "total_amount_spent= (sales_df.join(menu_df, 'product_id')).groupby('product_name').agg(sum('price').alias('total_amount_spent')).orderBy('product_name')\n",
    "total_amount_spent.show()"
   ]
  },
  {
   "cell_type": "code",
   "execution_count": 23,
   "id": "bf7ae9af",
   "metadata": {},
   "outputs": [
    {
     "data": {
      "image/png": "[encoded data removed]",
      "text/plain": [
       "<Figure size 1000x600 with 1 Axes>"
      ]
     },
     "metadata": {},
     "output_type": "display_data"
    }
   ],
   "source": [
    "# Convert the PySpark DataFrame to a Pandas DataFrame for plotting\n",
    "total_amount_spent_pd = total_amount_spent.toPandas()\n",
    "\n",
    "# Create a bar chart using Matplotlib\n",
    "plt.figure(figsize=(10, 6))\n",
    "plt.bar(total_amount_spent_pd['product_name'], total_amount_spent_pd['total_amount_spent'])\n",
    "plt.xlabel('Product Name')\n",
    "plt.ylabel('Total Amount Spent')\n",
    "plt.title('Total Amount Spent by Each Customer')\n",
    "\n",
    "# Show the chart\n",
    "plt.show()"
   ]
  },
  {
   "cell_type": "code",
   "execution_count": 28,
   "id": "b003bffe",
   "metadata": {},
   "outputs": [
    {
     "name": "stdout",
     "output_type": "stream",
     "text": [
      "+-----------+------------------+\n",
      "|Order_month|Total_amount_sales|\n",
      "+-----------+------------------+\n",
      "|          1|            2960.0|\n",
      "|          6|            2960.0|\n",
      "|          3|             910.0|\n",
      "|          5|            2960.0|\n",
      "|          7|             910.0|\n",
      "|         11|             910.0|\n",
      "|          2|            2730.0|\n",
      "+-----------+------------------+\n",
      "\n"
     ]
    }
   ],
   "source": [
    "## Total Amount of Sales in each Month\n",
    "Total_amount_sales = (sales_df.join(menu_df, 'product_id')).groupby('Order_month').agg(sum('price').alias('Total_amount_sales'))\n",
    "Total_amount_sales.show()"
   ]
  },
  {
   "cell_type": "code",
   "execution_count": 31,
   "id": "3bc54809",
   "metadata": {},
   "outputs": [
    {
     "data": {
      "image/png": "[encoded data removed]",
      "text/plain": [
       "<Figure size 1000x600 with 1 Axes>"
      ]
     },
     "metadata": {},
     "output_type": "display_data"
    }
   ],
   "source": [
    "# Convert the PySpark DataFrame to a Pandas DataFrame for plotting\n",
    "total_amount_sales_pd = Total_amount_sales.toPandas()\n",
    "\n",
    "# Create a bar chart using Matplotlib\n",
    "plt.figure(figsize=(10, 6))\n",
    "plt.bar(total_amount_sales_pd['Order_month'], total_amount_sales_pd['Total_amount_sales'])\n",
    "plt.xlabel('Order Month')\n",
    "plt.ylabel('Total Amount Sales')\n",
    "plt.title('Total Amount of Sales in each Month')\n",
    "\n",
    "# Show the chart\n",
    "plt.show()"
   ]
  },
  {
   "cell_type": "code",
   "execution_count": 32,
   "id": "20197bde",
   "metadata": {},
   "outputs": [
    {
     "name": "stdout",
     "output_type": "stream",
     "text": [
      "+----------+------------------+\n",
      "|Order_year|Total_amount_sales|\n",
      "+----------+------------------+\n",
      "|      2023|            9990.0|\n",
      "|      2022|            4350.0|\n",
      "+----------+------------------+\n",
      "\n"
     ]
    }
   ],
   "source": [
    "## Total Amount of Sales in each Year\n",
    "Total_amount_sales = (sales_df.join(menu_df, 'product_id')).groupby('Order_year').agg(sum('price').alias('Total_amount_sales'))\n",
    "Total_amount_sales.show()"
   ]
  },
  {
   "cell_type": "code",
   "execution_count": 34,
   "id": "db817175",
   "metadata": {},
   "outputs": [
    {
     "data": {
      "image/png": "[encoded data removed]",
      "text/plain": [
       "<Figure size 1000x600 with 1 Axes>"
      ]
     },
     "metadata": {},
     "output_type": "display_data"
    }
   ],
   "source": [
    "# Convert the PySpark DataFrame to a Pandas DataFrame for plotting\n",
    "total_amount_sales_pd = Total_amount_sales.toPandas()\n",
    "\n",
    "# Create a bar chart using Matplotlib\n",
    "plt.figure(figsize=(10, 6))\n",
    "plt.bar(total_amount_sales_pd['Order_year'], total_amount_sales_pd['Total_amount_sales'])\n",
    "plt.xlabel('Order Month')\n",
    "plt.ylabel('Total Amount Sales')\n",
    "plt.title('Total Amount of Sales in each Month')\n",
    "\n",
    "# Show the chart\n",
    "plt.show()"
   ]
  },
  {
   "cell_type": "code",
   "execution_count": null,
   "id": "1acfd79b",
   "metadata": {},
   "outputs": [],
   "source": []
  },
  {
   "cell_type": "code",
   "execution_count": null,
   "id": "91f89494",
   "metadata": {},
   "outputs": [],
   "source": []
  },
  {
   "cell_type": "code",
   "execution_count": null,
   "id": "8c387941",
   "metadata": {},
   "outputs": [],
   "source": []
  },
  {
   "cell_type": "code",
   "execution_count": null,
   "id": "c43f016f",
   "metadata": {},
   "outputs": [],
   "source": []
  }
 ],
 "metadata": {
  "kernelspec": {
   "display_name": "Python 3 (ipykernel)",
   "language": "python",
   "name": "python3"
  },
  "language_info": {
   "codemirror_mode": {
    "name": "ipython",
    "version": 3
   },
   "file_extension": ".py",
   "mimetype": "text/x-python",
   "name": "python",
   "nbconvert_exporter": "python",
   "pygments_lexer": "ipython3",
   "version": "3.11.4"
  }
 },
 "nbformat": 4,
 "nbformat_minor": 5
}
